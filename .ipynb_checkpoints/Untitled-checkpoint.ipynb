{
 "cells": [
  {
   "cell_type": "code",
   "execution_count": 16,
   "id": "ace98a0a",
   "metadata": {},
   "outputs": [
    {
     "name": "stdout",
     "output_type": "stream",
     "text": [
      "Log dataset with 20 entries (no Unknown or Pending) saved to sample_logs_20_entries_no_unknown_pending.csv\n"
     ]
    }
   ],
   "source": [
    "import csv\n",
    "import random\n",
    "import string\n",
    "from datetime import datetime, timedelta\n",
    "\n",
    "# Function to generate random usernames\n",
    "def generate_username(length=8):\n",
    "    characters = string.ascii_letters + string.digits\n",
    "    return ''.join(random.choice(characters) for _ in range(length))\n",
    "\n",
    "# Define user roles and specific actions\n",
    "user_data = [\n",
    "    {\"user_id\": generate_username(), \"role\": \"customer\"},\n",
    "    {\"user_id\": generate_username(), \"role\": \"support-agent\"},\n",
    "    {\"user_id\": generate_username(), \"role\": \"admin\"},\n",
    "    {\"user_id\": generate_username(), \"role\": \"manager\"},\n",
    "]\n",
    "\n",
    "specific_actions = [\n",
    "    \"modify_price\",\n",
    "    \"access_customer_data\",\n",
    "    \"issue_resolved\",\n",
    "    \"add_product\",\n",
    "]\n",
    "\n",
    "roles = [\"customer\", \"support-agent\", \"admin\", \"manager\"]\n",
    "\n",
    "# Define compliance status based on specific actions\n",
    "def determine_compliance_status(action, role):\n",
    "    if action == \"modify_price\" and role in [\"admin\", \"manager\"]:\n",
    "        return \"Compliant\"\n",
    "    elif action == \"access_customer_data\" and role in [\"admin\", \"manager\", \"support-agent\"]:\n",
    "        return \"Non-Compliant\"\n",
    "    elif action == \"issue_resolved\" and role in [\"customer\", \"support-agent\"]:\n",
    "        return \"Compliant\"\n",
    "    elif action == \"add_product\" and role in [\"customer\"]:\n",
    "        return \"Compliant\"  # Changed from \"Pending\" to \"Compliant\"\n",
    "    else:\n",
    "        return \"Compliant\"  # Assign \"Compliant\" by default\n",
    "\n",
    "# Generate log entries (20 entries)\n",
    "log_entries = []\n",
    "start_time = datetime(2023, 1, 1)\n",
    "for _ in range(200):\n",
    "    timestamp = start_time.strftime(\"%Y-%m-%d %H:%M:%S\")\n",
    "    user_data_entry = random.choice(user_data)\n",
    "    user_id = user_data_entry[\"user_id\"]\n",
    "    role = random.choice(roles)\n",
    "    action = random.choice(specific_actions)\n",
    "    compliance = determine_compliance_status(action, role)  # Determine compliance based on action and role\n",
    "    entry = [\n",
    "        timestamp,\n",
    "        user_id,\n",
    "        role,\n",
    "        action,\n",
    "        compliance,\n",
    "    ]\n",
    "    log_entries.append(entry)\n",
    "    start_time += timedelta(seconds=random.randint(1, 60))\n",
    "\n",
    "# Save the log dataset to a CSV file\n",
    "csv_filename = \"sample_logs_20_entries_no_unknown_pending.csv\"\n",
    "\n",
    "with open(csv_filename, \"w\", newline=\"\") as csv_file:\n",
    "    csv_writer = csv.writer(csv_file)\n",
    "    # Write the header\n",
    "    csv_writer.writerow([\"timestamp\", \"user_id\", \"role\", \"action\", \"compliance_status\"])\n",
    "    # Write the 20 log entries\n",
    "    csv_writer.writerows(log_entries)\n",
    "\n",
    "print(f\"Log dataset with 20 entries (no Unknown or Pending) saved to {csv_filename}\")\n"
   ]
  },
  {
   "cell_type": "code",
   "execution_count": 17,
   "id": "a4ec6df3",
   "metadata": {},
   "outputs": [
    {
     "name": "stdout",
     "output_type": "stream",
     "text": [
      "Requirement already satisfied: reportlab in /Users/avinash/opt/anaconda3/lib/python3.9/site-packages (4.0.4)\r\n",
      "Requirement already satisfied: pillow>=9.0.0 in /Users/avinash/opt/anaconda3/lib/python3.9/site-packages (from reportlab) (9.4.0)\r\n"
     ]
    }
   ],
   "source": [
    "! pip install reportlab\n"
   ]
  },
  {
   "cell_type": "code",
   "execution_count": 19,
   "id": "02e7f9aa",
   "metadata": {},
   "outputs": [
    {
     "name": "stdout",
     "output_type": "stream",
     "text": [
      "User logs PDF report generated and saved as 'user_logs.csv_style.pdf'\n"
     ]
    }
   ],
   "source": [
    "from reportlab.lib.pagesizes import letter, landscape\n",
    "from reportlab.platypus import SimpleDocTemplate, Paragraph, PageBreak\n",
    "from reportlab.lib.styles import getSampleStyleSheet\n",
    "from datetime import datetime\n",
    "import csv\n",
    "\n",
    "# Load log data from CSV file\n",
    "log_data = []\n",
    "with open(\"sample_logs_20_entries_no_unknown_pending.csv\", \"r\") as csv_file:\n",
    "    csv_reader = csv.reader(csv_file)\n",
    "    header = next(csv_reader)  # Skip the header\n",
    "    for row in csv_reader:\n",
    "        log_data.append(row)\n",
    "\n",
    "# Create a PDF report\n",
    "pdf_filename = \"user_logs.csv_style.pdf\"\n",
    "doc = SimpleDocTemplate(pdf_filename, pagesize=landscape(letter))\n",
    "elements = []\n",
    "\n",
    "# Add title\n",
    "title_style = getSampleStyleSheet()[\"Title\"]\n",
    "title_text = Paragraph(\"<b>User Logs Report</b>\", title_style)\n",
    "elements.append(title_text)\n",
    "\n",
    "# Add log data in a CSV-like format\n",
    "csv_style = getSampleStyleSheet()[\"Normal\"]\n",
    "csv_style.alignment = 1  # Center alignment\n",
    "\n",
    "# Add header row\n",
    "header_text = \",\".join(header)  # Convert the header to a CSV-like string\n",
    "header_text = Paragraph(\"<b>\" + header_text + \"</b>\", csv_style)\n",
    "elements.append(header_text)\n",
    "\n",
    "# Add log entries\n",
    "for row in log_data:\n",
    "    row_text = \",\".join(row)  # Convert the row data to a CSV-like string\n",
    "    row_text = Paragraph(row_text, csv_style)\n",
    "    elements.append(row_text)\n",
    "\n",
    "elements.append(PageBreak())  # Page break\n",
    "\n",
    "# Build the PDF document\n",
    "doc.build(elements)\n",
    "\n",
    "print(f\"User logs PDF report generated and saved as '{pdf_filename}'\")\n"
   ]
  },
  {
   "cell_type": "code",
   "execution_count": null,
   "id": "66ab99b2",
   "metadata": {},
   "outputs": [],
   "source": []
  },
  {
   "cell_type": "code",
   "execution_count": null,
   "id": "683a6337",
   "metadata": {},
   "outputs": [],
   "source": []
  },
  {
   "cell_type": "code",
   "execution_count": null,
   "id": "2f370562",
   "metadata": {},
   "outputs": [],
   "source": []
  },
  {
   "cell_type": "code",
   "execution_count": null,
   "id": "3db5bdea",
   "metadata": {},
   "outputs": [],
   "source": []
  },
  {
   "cell_type": "code",
   "execution_count": null,
   "id": "26f27a1b",
   "metadata": {},
   "outputs": [],
   "source": []
  },
  {
   "cell_type": "code",
   "execution_count": null,
   "id": "b781e45d",
   "metadata": {},
   "outputs": [],
   "source": []
  },
  {
   "cell_type": "code",
   "execution_count": null,
   "id": "4b3b9330",
   "metadata": {},
   "outputs": [],
   "source": []
  }
 ],
 "metadata": {
  "kernelspec": {
   "display_name": "Python 3 (ipykernel)",
   "language": "python",
   "name": "python3"
  },
  "language_info": {
   "codemirror_mode": {
    "name": "ipython",
    "version": 3
   },
   "file_extension": ".py",
   "mimetype": "text/x-python",
   "name": "python",
   "nbconvert_exporter": "python",
   "pygments_lexer": "ipython3",
   "version": "3.11.3"
  }
 },
 "nbformat": 4,
 "nbformat_minor": 5
}
